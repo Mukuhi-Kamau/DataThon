{
 "cells": [
  {
   "cell_type": "code",
   "execution_count": null,
   "metadata": {},
   "outputs": [],
   "source": []
  },
  {
   "cell_type": "code",
   "execution_count": 1,
   "metadata": {},
   "outputs": [
    {
     "name": "stdout",
     "output_type": "stream",
     "text": [
      "C:\\Users\\joyce\\Downloads\\Bundas\\Bundas\n"
     ]
    }
   ],
   "source": [
    "cd C:Downloads/Bundas/Bundas"
   ]
  },
  {
   "cell_type": "code",
   "execution_count": 2,
   "metadata": {},
   "outputs": [],
   "source": [
    "import pandas as pd\n",
    "import os\n",
    "import numpy as np\n",
    "import matplotlib.pyplot as plt\n",
    "%matplotlib inline\n",
    "from scipy.stats import ttest_ind\n",
    "import seaborn as sns;sns.set()\n",
    "import warnings\n",
    "warnings.filterwarnings('ignore')"
   ]
  },
  {
   "cell_type": "code",
   "execution_count": 3,
   "metadata": {},
   "outputs": [
    {
     "name": "stdout",
     "output_type": "stream",
     "text": [
      "['.ipynb_checkpoints', 'bundas_test.csv', 'bundas_train.csv', 'STRATHMORE DATATHON CHALLENGE.pdf', 'Untitled-checkpoint.ipynb']\n"
     ]
    }
   ],
   "source": [
    "print(os.listdir(\"../Bundas\"))"
   ]
  },
  {
   "cell_type": "code",
   "execution_count": 4,
   "metadata": {},
   "outputs": [
    {
     "data": {
      "text/html": [
       "<div>\n",
       "<style scoped>\n",
       "    .dataframe tbody tr th:only-of-type {\n",
       "        vertical-align: middle;\n",
       "    }\n",
       "\n",
       "    .dataframe tbody tr th {\n",
       "        vertical-align: top;\n",
       "    }\n",
       "\n",
       "    .dataframe thead th {\n",
       "        text-align: right;\n",
       "    }\n",
       "</style>\n",
       "<table border=\"1\" class=\"dataframe\">\n",
       "  <thead>\n",
       "    <tr style=\"text-align: right;\">\n",
       "      <th></th>\n",
       "      <th>Item_ID</th>\n",
       "      <th>Weight</th>\n",
       "      <th>FatContent</th>\n",
       "      <th>Visibility</th>\n",
       "      <th>Category</th>\n",
       "      <th>Max_Price</th>\n",
       "      <th>Store_ID</th>\n",
       "      <th>Store_Establishment_Year</th>\n",
       "      <th>Store_Size</th>\n",
       "      <th>Store_Location_Type</th>\n",
       "      <th>Store_Type</th>\n",
       "      <th>Item_Store_Sales</th>\n",
       "    </tr>\n",
       "  </thead>\n",
       "  <tbody>\n",
       "    <tr>\n",
       "      <td>0</td>\n",
       "      <td>FDA15</td>\n",
       "      <td>9.300</td>\n",
       "      <td>Low Fat</td>\n",
       "      <td>0.016047</td>\n",
       "      <td>Dairy</td>\n",
       "      <td>249.8092</td>\n",
       "      <td>OUT049</td>\n",
       "      <td>1999</td>\n",
       "      <td>Medium</td>\n",
       "      <td>Tier 1</td>\n",
       "      <td>Supermarket Type1</td>\n",
       "      <td>3735.1380</td>\n",
       "    </tr>\n",
       "    <tr>\n",
       "      <td>1</td>\n",
       "      <td>DRC01</td>\n",
       "      <td>5.920</td>\n",
       "      <td>Regular</td>\n",
       "      <td>0.019278</td>\n",
       "      <td>Soft Drinks</td>\n",
       "      <td>48.2692</td>\n",
       "      <td>OUT018</td>\n",
       "      <td>2009</td>\n",
       "      <td>Medium</td>\n",
       "      <td>Tier 3</td>\n",
       "      <td>Supermarket Type2</td>\n",
       "      <td>443.4228</td>\n",
       "    </tr>\n",
       "    <tr>\n",
       "      <td>2</td>\n",
       "      <td>FDN15</td>\n",
       "      <td>17.500</td>\n",
       "      <td>Low Fat</td>\n",
       "      <td>0.016760</td>\n",
       "      <td>Meat</td>\n",
       "      <td>141.6180</td>\n",
       "      <td>OUT049</td>\n",
       "      <td>1999</td>\n",
       "      <td>Medium</td>\n",
       "      <td>Tier 1</td>\n",
       "      <td>Supermarket Type1</td>\n",
       "      <td>2097.2700</td>\n",
       "    </tr>\n",
       "    <tr>\n",
       "      <td>3</td>\n",
       "      <td>FDX07</td>\n",
       "      <td>19.200</td>\n",
       "      <td>Regular</td>\n",
       "      <td>0.000000</td>\n",
       "      <td>Fruits and Vegetables</td>\n",
       "      <td>182.0950</td>\n",
       "      <td>OUT010</td>\n",
       "      <td>1998</td>\n",
       "      <td>NaN</td>\n",
       "      <td>Tier 3</td>\n",
       "      <td>Grocery Store</td>\n",
       "      <td>732.3800</td>\n",
       "    </tr>\n",
       "    <tr>\n",
       "      <td>4</td>\n",
       "      <td>NCD19</td>\n",
       "      <td>8.930</td>\n",
       "      <td>Low Fat</td>\n",
       "      <td>0.000000</td>\n",
       "      <td>Household</td>\n",
       "      <td>53.8614</td>\n",
       "      <td>OUT013</td>\n",
       "      <td>1987</td>\n",
       "      <td>High</td>\n",
       "      <td>Tier 3</td>\n",
       "      <td>Supermarket Type1</td>\n",
       "      <td>994.7052</td>\n",
       "    </tr>\n",
       "    <tr>\n",
       "      <td>...</td>\n",
       "      <td>...</td>\n",
       "      <td>...</td>\n",
       "      <td>...</td>\n",
       "      <td>...</td>\n",
       "      <td>...</td>\n",
       "      <td>...</td>\n",
       "      <td>...</td>\n",
       "      <td>...</td>\n",
       "      <td>...</td>\n",
       "      <td>...</td>\n",
       "      <td>...</td>\n",
       "      <td>...</td>\n",
       "    </tr>\n",
       "    <tr>\n",
       "      <td>8518</td>\n",
       "      <td>FDF22</td>\n",
       "      <td>6.865</td>\n",
       "      <td>Low Fat</td>\n",
       "      <td>0.056783</td>\n",
       "      <td>Snack Foods</td>\n",
       "      <td>214.5218</td>\n",
       "      <td>OUT013</td>\n",
       "      <td>1987</td>\n",
       "      <td>High</td>\n",
       "      <td>Tier 3</td>\n",
       "      <td>Supermarket Type1</td>\n",
       "      <td>2778.3834</td>\n",
       "    </tr>\n",
       "    <tr>\n",
       "      <td>8519</td>\n",
       "      <td>FDS36</td>\n",
       "      <td>8.380</td>\n",
       "      <td>Regular</td>\n",
       "      <td>0.046982</td>\n",
       "      <td>Baking Goods</td>\n",
       "      <td>108.1570</td>\n",
       "      <td>OUT045</td>\n",
       "      <td>2002</td>\n",
       "      <td>NaN</td>\n",
       "      <td>Tier 2</td>\n",
       "      <td>Supermarket Type1</td>\n",
       "      <td>549.2850</td>\n",
       "    </tr>\n",
       "    <tr>\n",
       "      <td>8520</td>\n",
       "      <td>NCJ29</td>\n",
       "      <td>10.600</td>\n",
       "      <td>Low Fat</td>\n",
       "      <td>0.035186</td>\n",
       "      <td>Health and Hygiene</td>\n",
       "      <td>85.1224</td>\n",
       "      <td>OUT035</td>\n",
       "      <td>2004</td>\n",
       "      <td>Small</td>\n",
       "      <td>Tier 2</td>\n",
       "      <td>Supermarket Type1</td>\n",
       "      <td>1193.1136</td>\n",
       "    </tr>\n",
       "    <tr>\n",
       "      <td>8521</td>\n",
       "      <td>FDN46</td>\n",
       "      <td>7.210</td>\n",
       "      <td>Regular</td>\n",
       "      <td>0.145221</td>\n",
       "      <td>Snack Foods</td>\n",
       "      <td>103.1332</td>\n",
       "      <td>OUT018</td>\n",
       "      <td>2009</td>\n",
       "      <td>Medium</td>\n",
       "      <td>Tier 3</td>\n",
       "      <td>Supermarket Type2</td>\n",
       "      <td>1845.5976</td>\n",
       "    </tr>\n",
       "    <tr>\n",
       "      <td>8522</td>\n",
       "      <td>DRG01</td>\n",
       "      <td>14.800</td>\n",
       "      <td>Low Fat</td>\n",
       "      <td>0.044878</td>\n",
       "      <td>Soft Drinks</td>\n",
       "      <td>75.4670</td>\n",
       "      <td>OUT046</td>\n",
       "      <td>1997</td>\n",
       "      <td>Small</td>\n",
       "      <td>Tier 1</td>\n",
       "      <td>Supermarket Type1</td>\n",
       "      <td>765.6700</td>\n",
       "    </tr>\n",
       "  </tbody>\n",
       "</table>\n",
       "<p>8523 rows × 12 columns</p>\n",
       "</div>"
      ],
      "text/plain": [
       "     Item_ID  Weight FatContent  Visibility               Category  Max_Price  \\\n",
       "0      FDA15   9.300    Low Fat    0.016047                  Dairy   249.8092   \n",
       "1      DRC01   5.920    Regular    0.019278            Soft Drinks    48.2692   \n",
       "2      FDN15  17.500    Low Fat    0.016760                   Meat   141.6180   \n",
       "3      FDX07  19.200    Regular    0.000000  Fruits and Vegetables   182.0950   \n",
       "4      NCD19   8.930    Low Fat    0.000000              Household    53.8614   \n",
       "...      ...     ...        ...         ...                    ...        ...   \n",
       "8518   FDF22   6.865    Low Fat    0.056783            Snack Foods   214.5218   \n",
       "8519   FDS36   8.380    Regular    0.046982           Baking Goods   108.1570   \n",
       "8520   NCJ29  10.600    Low Fat    0.035186     Health and Hygiene    85.1224   \n",
       "8521   FDN46   7.210    Regular    0.145221            Snack Foods   103.1332   \n",
       "8522   DRG01  14.800    Low Fat    0.044878            Soft Drinks    75.4670   \n",
       "\n",
       "     Store_ID  Store_Establishment_Year Store_Size Store_Location_Type  \\\n",
       "0      OUT049                      1999     Medium              Tier 1   \n",
       "1      OUT018                      2009     Medium              Tier 3   \n",
       "2      OUT049                      1999     Medium              Tier 1   \n",
       "3      OUT010                      1998        NaN              Tier 3   \n",
       "4      OUT013                      1987       High              Tier 3   \n",
       "...       ...                       ...        ...                 ...   \n",
       "8518   OUT013                      1987       High              Tier 3   \n",
       "8519   OUT045                      2002        NaN              Tier 2   \n",
       "8520   OUT035                      2004      Small              Tier 2   \n",
       "8521   OUT018                      2009     Medium              Tier 3   \n",
       "8522   OUT046                      1997      Small              Tier 1   \n",
       "\n",
       "             Store_Type  Item_Store_Sales  \n",
       "0     Supermarket Type1         3735.1380  \n",
       "1     Supermarket Type2          443.4228  \n",
       "2     Supermarket Type1         2097.2700  \n",
       "3         Grocery Store          732.3800  \n",
       "4     Supermarket Type1          994.7052  \n",
       "...                 ...               ...  \n",
       "8518  Supermarket Type1         2778.3834  \n",
       "8519  Supermarket Type1          549.2850  \n",
       "8520  Supermarket Type1         1193.1136  \n",
       "8521  Supermarket Type2         1845.5976  \n",
       "8522  Supermarket Type1          765.6700  \n",
       "\n",
       "[8523 rows x 12 columns]"
      ]
     },
     "execution_count": 4,
     "metadata": {},
     "output_type": "execute_result"
    }
   ],
   "source": [
    "data_path_training = '../Bundas/bundas_train.csv'\n",
    "data_path_testing = '../Bundas/bundas_test.csv'\n",
    "\n",
    "bundas_training = pd.read_csv(data_path_training)\n",
    "bundas_training"
   ]
  },
  {
   "cell_type": "code",
   "execution_count": 5,
   "metadata": {},
   "outputs": [
    {
     "name": "stdout",
     "output_type": "stream",
     "text": [
      "  Item_ID  Weight FatContent  Visibility               Category  Max_Price  \\\n",
      "0   FDA15    9.30    Low Fat    0.016047                  Dairy   249.8092   \n",
      "1   DRC01    5.92    Regular    0.019278            Soft Drinks    48.2692   \n",
      "2   FDN15   17.50    Low Fat    0.016760                   Meat   141.6180   \n",
      "3   FDX07   19.20    Regular    0.000000  Fruits and Vegetables   182.0950   \n",
      "4   NCD19    8.93    Low Fat    0.000000              Household    53.8614   \n",
      "\n",
      "  Store_ID  Store_Establishment_Year Store_Size Store_Location_Type  \\\n",
      "0   OUT049                      1999     Medium              Tier 1   \n",
      "1   OUT018                      2009     Medium              Tier 3   \n",
      "2   OUT049                      1999     Medium              Tier 1   \n",
      "3   OUT010                      1998        NaN              Tier 3   \n",
      "4   OUT013                      1987       High              Tier 3   \n",
      "\n",
      "          Store_Type  Item_Store_Sales  \n",
      "0  Supermarket Type1         3735.1380  \n",
      "1  Supermarket Type2          443.4228  \n",
      "2  Supermarket Type1         2097.2700  \n",
      "3      Grocery Store          732.3800  \n",
      "4  Supermarket Type1          994.7052  \n"
     ]
    }
   ],
   "source": [
    "print(bundas_training.head())"
   ]
  },
  {
   "cell_type": "code",
   "execution_count": 6,
   "metadata": {},
   "outputs": [
    {
     "data": {
      "text/html": [
       "<div>\n",
       "<style scoped>\n",
       "    .dataframe tbody tr th:only-of-type {\n",
       "        vertical-align: middle;\n",
       "    }\n",
       "\n",
       "    .dataframe tbody tr th {\n",
       "        vertical-align: top;\n",
       "    }\n",
       "\n",
       "    .dataframe thead th {\n",
       "        text-align: right;\n",
       "    }\n",
       "</style>\n",
       "<table border=\"1\" class=\"dataframe\">\n",
       "  <thead>\n",
       "    <tr style=\"text-align: right;\">\n",
       "      <th></th>\n",
       "      <th>Weight</th>\n",
       "      <th>Visibility</th>\n",
       "      <th>Max_Price</th>\n",
       "      <th>Store_Establishment_Year</th>\n",
       "      <th>Item_Store_Sales</th>\n",
       "    </tr>\n",
       "  </thead>\n",
       "  <tbody>\n",
       "    <tr>\n",
       "      <td>count</td>\n",
       "      <td>7060.000000</td>\n",
       "      <td>8523.000000</td>\n",
       "      <td>8523.000000</td>\n",
       "      <td>8523.000000</td>\n",
       "      <td>8523.000000</td>\n",
       "    </tr>\n",
       "    <tr>\n",
       "      <td>mean</td>\n",
       "      <td>12.857645</td>\n",
       "      <td>0.066132</td>\n",
       "      <td>140.992782</td>\n",
       "      <td>1997.831867</td>\n",
       "      <td>2181.288914</td>\n",
       "    </tr>\n",
       "    <tr>\n",
       "      <td>std</td>\n",
       "      <td>4.643456</td>\n",
       "      <td>0.051598</td>\n",
       "      <td>62.275067</td>\n",
       "      <td>8.371760</td>\n",
       "      <td>1706.499616</td>\n",
       "    </tr>\n",
       "    <tr>\n",
       "      <td>min</td>\n",
       "      <td>4.555000</td>\n",
       "      <td>0.000000</td>\n",
       "      <td>31.290000</td>\n",
       "      <td>1985.000000</td>\n",
       "      <td>33.290000</td>\n",
       "    </tr>\n",
       "    <tr>\n",
       "      <td>25%</td>\n",
       "      <td>8.773750</td>\n",
       "      <td>0.026989</td>\n",
       "      <td>93.826500</td>\n",
       "      <td>1987.000000</td>\n",
       "      <td>834.247400</td>\n",
       "    </tr>\n",
       "    <tr>\n",
       "      <td>50%</td>\n",
       "      <td>12.600000</td>\n",
       "      <td>0.053931</td>\n",
       "      <td>143.012800</td>\n",
       "      <td>1999.000000</td>\n",
       "      <td>1794.331000</td>\n",
       "    </tr>\n",
       "    <tr>\n",
       "      <td>75%</td>\n",
       "      <td>16.850000</td>\n",
       "      <td>0.094585</td>\n",
       "      <td>185.643700</td>\n",
       "      <td>2004.000000</td>\n",
       "      <td>3101.296400</td>\n",
       "    </tr>\n",
       "    <tr>\n",
       "      <td>max</td>\n",
       "      <td>21.350000</td>\n",
       "      <td>0.328391</td>\n",
       "      <td>266.888400</td>\n",
       "      <td>2009.000000</td>\n",
       "      <td>13086.964800</td>\n",
       "    </tr>\n",
       "  </tbody>\n",
       "</table>\n",
       "</div>"
      ],
      "text/plain": [
       "            Weight   Visibility    Max_Price  Store_Establishment_Year  \\\n",
       "count  7060.000000  8523.000000  8523.000000               8523.000000   \n",
       "mean     12.857645     0.066132   140.992782               1997.831867   \n",
       "std       4.643456     0.051598    62.275067                  8.371760   \n",
       "min       4.555000     0.000000    31.290000               1985.000000   \n",
       "25%       8.773750     0.026989    93.826500               1987.000000   \n",
       "50%      12.600000     0.053931   143.012800               1999.000000   \n",
       "75%      16.850000     0.094585   185.643700               2004.000000   \n",
       "max      21.350000     0.328391   266.888400               2009.000000   \n",
       "\n",
       "       Item_Store_Sales  \n",
       "count       8523.000000  \n",
       "mean        2181.288914  \n",
       "std         1706.499616  \n",
       "min           33.290000  \n",
       "25%          834.247400  \n",
       "50%         1794.331000  \n",
       "75%         3101.296400  \n",
       "max        13086.964800  "
      ]
     },
     "execution_count": 6,
     "metadata": {},
     "output_type": "execute_result"
    }
   ],
   "source": [
    "bundas_training.describe()"
   ]
  },
  {
   "cell_type": "code",
   "execution_count": 7,
   "metadata": {},
   "outputs": [
    {
     "data": {
      "text/plain": [
       "Item_ID                     False\n",
       "Weight                       True\n",
       "FatContent                  False\n",
       "Visibility                  False\n",
       "Category                    False\n",
       "Max_Price                   False\n",
       "Store_ID                    False\n",
       "Store_Establishment_Year    False\n",
       "Store_Size                   True\n",
       "Store_Location_Type         False\n",
       "Store_Type                  False\n",
       "Item_Store_Sales            False\n",
       "dtype: bool"
      ]
     },
     "execution_count": 7,
     "metadata": {},
     "output_type": "execute_result"
    }
   ],
   "source": [
    "bundas_training.isnull().any()"
   ]
  },
  {
   "cell_type": "code",
   "execution_count": 8,
   "metadata": {},
   "outputs": [
    {
     "data": {
      "text/plain": [
       "Item_ID                     False\n",
       "Weight                      False\n",
       "FatContent                  False\n",
       "Visibility                  False\n",
       "Category                    False\n",
       "Max_Price                   False\n",
       "Store_ID                    False\n",
       "Store_Establishment_Year    False\n",
       "Store_Size                  False\n",
       "Store_Location_Type         False\n",
       "Store_Type                  False\n",
       "Item_Store_Sales            False\n",
       "dtype: bool"
      ]
     },
     "execution_count": 8,
     "metadata": {},
     "output_type": "execute_result"
    }
   ],
   "source": [
    "bundas_training.isnull().all()"
   ]
  },
  {
   "cell_type": "code",
   "execution_count": 9,
   "metadata": {},
   "outputs": [
    {
     "data": {
      "text/plain": [
       "Item_ID                        0\n",
       "Weight                      1463\n",
       "FatContent                     0\n",
       "Visibility                     0\n",
       "Category                       0\n",
       "Max_Price                      0\n",
       "Store_ID                       0\n",
       "Store_Establishment_Year       0\n",
       "Store_Size                  2410\n",
       "Store_Location_Type            0\n",
       "Store_Type                     0\n",
       "Item_Store_Sales               0\n",
       "dtype: int64"
      ]
     },
     "execution_count": 9,
     "metadata": {},
     "output_type": "execute_result"
    }
   ],
   "source": [
    "bundas_training.isnull().sum()"
   ]
  },
  {
   "cell_type": "code",
   "execution_count": 10,
   "metadata": {},
   "outputs": [
    {
     "name": "stdout",
     "output_type": "stream",
     "text": [
      "<class 'pandas.core.frame.DataFrame'>\n",
      "RangeIndex: 8523 entries, 0 to 8522\n",
      "Data columns (total 12 columns):\n",
      "Item_ID                     8523 non-null object\n",
      "Weight                      7060 non-null float64\n",
      "FatContent                  8523 non-null object\n",
      "Visibility                  8523 non-null float64\n",
      "Category                    8523 non-null object\n",
      "Max_Price                   8523 non-null float64\n",
      "Store_ID                    8523 non-null object\n",
      "Store_Establishment_Year    8523 non-null int64\n",
      "Store_Size                  6113 non-null object\n",
      "Store_Location_Type         8523 non-null object\n",
      "Store_Type                  8523 non-null object\n",
      "Item_Store_Sales            8523 non-null float64\n",
      "dtypes: float64(4), int64(1), object(7)\n",
      "memory usage: 799.2+ KB\n"
     ]
    }
   ],
   "source": [
    "bundas_training.info()"
   ]
  },
  {
   "cell_type": "code",
   "execution_count": 12,
   "metadata": {
    "scrolled": true
   },
   "outputs": [
    {
     "data": {
      "text/html": [
       "<div>\n",
       "<style scoped>\n",
       "    .dataframe tbody tr th:only-of-type {\n",
       "        vertical-align: middle;\n",
       "    }\n",
       "\n",
       "    .dataframe tbody tr th {\n",
       "        vertical-align: top;\n",
       "    }\n",
       "\n",
       "    .dataframe thead tr th {\n",
       "        text-align: left;\n",
       "    }\n",
       "\n",
       "    .dataframe thead tr:last-of-type th {\n",
       "        text-align: right;\n",
       "    }\n",
       "</style>\n",
       "<table border=\"1\" class=\"dataframe\">\n",
       "  <thead>\n",
       "    <tr>\n",
       "      <th>Category</th>\n",
       "      <th colspan=\"3\" halign=\"left\">Baking Goods</th>\n",
       "      <th colspan=\"3\" halign=\"left\">Breads</th>\n",
       "      <th colspan=\"3\" halign=\"left\">Breakfast</th>\n",
       "      <th>Canned</th>\n",
       "      <th>...</th>\n",
       "      <th>Seafood</th>\n",
       "      <th colspan=\"3\" halign=\"left\">Snack Foods</th>\n",
       "      <th colspan=\"3\" halign=\"left\">Soft Drinks</th>\n",
       "      <th colspan=\"3\" halign=\"left\">Starchy Foods</th>\n",
       "    </tr>\n",
       "    <tr>\n",
       "      <th>Store_Location_Type</th>\n",
       "      <th>Tier 1</th>\n",
       "      <th>Tier 2</th>\n",
       "      <th>Tier 3</th>\n",
       "      <th>Tier 1</th>\n",
       "      <th>Tier 2</th>\n",
       "      <th>Tier 3</th>\n",
       "      <th>Tier 1</th>\n",
       "      <th>Tier 2</th>\n",
       "      <th>Tier 3</th>\n",
       "      <th>Tier 1</th>\n",
       "      <th>...</th>\n",
       "      <th>Tier 3</th>\n",
       "      <th>Tier 1</th>\n",
       "      <th>Tier 2</th>\n",
       "      <th>Tier 3</th>\n",
       "      <th>Tier 1</th>\n",
       "      <th>Tier 2</th>\n",
       "      <th>Tier 3</th>\n",
       "      <th>Tier 1</th>\n",
       "      <th>Tier 2</th>\n",
       "      <th>Tier 3</th>\n",
       "    </tr>\n",
       "    <tr>\n",
       "      <th>Store_Type</th>\n",
       "      <th></th>\n",
       "      <th></th>\n",
       "      <th></th>\n",
       "      <th></th>\n",
       "      <th></th>\n",
       "      <th></th>\n",
       "      <th></th>\n",
       "      <th></th>\n",
       "      <th></th>\n",
       "      <th></th>\n",
       "      <th></th>\n",
       "      <th></th>\n",
       "      <th></th>\n",
       "      <th></th>\n",
       "      <th></th>\n",
       "      <th></th>\n",
       "      <th></th>\n",
       "      <th></th>\n",
       "      <th></th>\n",
       "      <th></th>\n",
       "      <th></th>\n",
       "    </tr>\n",
       "  </thead>\n",
       "  <tbody>\n",
       "    <tr>\n",
       "      <td>Grocery Store</td>\n",
       "      <td>328.688428</td>\n",
       "      <td>NaN</td>\n",
       "      <td>254.605090</td>\n",
       "      <td>309.222487</td>\n",
       "      <td>NaN</td>\n",
       "      <td>450.433282</td>\n",
       "      <td>376.243580</td>\n",
       "      <td>NaN</td>\n",
       "      <td>453.483778</td>\n",
       "      <td>440.514305</td>\n",
       "      <td>...</td>\n",
       "      <td>236.858350</td>\n",
       "      <td>342.043653</td>\n",
       "      <td>NaN</td>\n",
       "      <td>365.392915</td>\n",
       "      <td>350.518092</td>\n",
       "      <td>NaN</td>\n",
       "      <td>337.180143</td>\n",
       "      <td>291.953300</td>\n",
       "      <td>NaN</td>\n",
       "      <td>303.752756</td>\n",
       "    </tr>\n",
       "    <tr>\n",
       "      <td>Supermarket Type1</td>\n",
       "      <td>2201.688070</td>\n",
       "      <td>2052.633001</td>\n",
       "      <td>2050.901134</td>\n",
       "      <td>2595.314510</td>\n",
       "      <td>2275.347721</td>\n",
       "      <td>2080.731528</td>\n",
       "      <td>2035.408496</td>\n",
       "      <td>2417.394963</td>\n",
       "      <td>2104.286508</td>\n",
       "      <td>2239.013551</td>\n",
       "      <td>...</td>\n",
       "      <td>1629.345760</td>\n",
       "      <td>2413.350195</td>\n",
       "      <td>2381.754219</td>\n",
       "      <td>2473.968987</td>\n",
       "      <td>1953.726353</td>\n",
       "      <td>2160.13085</td>\n",
       "      <td>2351.727890</td>\n",
       "      <td>2539.964581</td>\n",
       "      <td>2645.022404</td>\n",
       "      <td>2302.791947</td>\n",
       "    </tr>\n",
       "    <tr>\n",
       "      <td>Supermarket Type2</td>\n",
       "      <td>NaN</td>\n",
       "      <td>NaN</td>\n",
       "      <td>1780.368782</td>\n",
       "      <td>NaN</td>\n",
       "      <td>NaN</td>\n",
       "      <td>2022.404489</td>\n",
       "      <td>NaN</td>\n",
       "      <td>NaN</td>\n",
       "      <td>1874.670867</td>\n",
       "      <td>NaN</td>\n",
       "      <td>...</td>\n",
       "      <td>3166.639914</td>\n",
       "      <td>NaN</td>\n",
       "      <td>NaN</td>\n",
       "      <td>2111.473733</td>\n",
       "      <td>NaN</td>\n",
       "      <td>NaN</td>\n",
       "      <td>1923.814626</td>\n",
       "      <td>NaN</td>\n",
       "      <td>NaN</td>\n",
       "      <td>1947.699988</td>\n",
       "    </tr>\n",
       "    <tr>\n",
       "      <td>Supermarket Type3</td>\n",
       "      <td>NaN</td>\n",
       "      <td>NaN</td>\n",
       "      <td>3248.872417</td>\n",
       "      <td>NaN</td>\n",
       "      <td>NaN</td>\n",
       "      <td>3565.122748</td>\n",
       "      <td>NaN</td>\n",
       "      <td>NaN</td>\n",
       "      <td>4584.759327</td>\n",
       "      <td>NaN</td>\n",
       "      <td>...</td>\n",
       "      <td>2687.073686</td>\n",
       "      <td>NaN</td>\n",
       "      <td>NaN</td>\n",
       "      <td>3745.168739</td>\n",
       "      <td>NaN</td>\n",
       "      <td>NaN</td>\n",
       "      <td>3284.938836</td>\n",
       "      <td>NaN</td>\n",
       "      <td>NaN</td>\n",
       "      <td>3512.190114</td>\n",
       "    </tr>\n",
       "  </tbody>\n",
       "</table>\n",
       "<p>4 rows × 48 columns</p>\n",
       "</div>"
      ],
      "text/plain": [
       "Category            Baking Goods                                 Breads  \\\n",
       "Store_Location_Type       Tier 1       Tier 2       Tier 3       Tier 1   \n",
       "Store_Type                                                                \n",
       "Grocery Store         328.688428          NaN   254.605090   309.222487   \n",
       "Supermarket Type1    2201.688070  2052.633001  2050.901134  2595.314510   \n",
       "Supermarket Type2            NaN          NaN  1780.368782          NaN   \n",
       "Supermarket Type3            NaN          NaN  3248.872417          NaN   \n",
       "\n",
       "Category                                         Breakfast               \\\n",
       "Store_Location_Type       Tier 2       Tier 3       Tier 1       Tier 2   \n",
       "Store_Type                                                                \n",
       "Grocery Store                NaN   450.433282   376.243580          NaN   \n",
       "Supermarket Type1    2275.347721  2080.731528  2035.408496  2417.394963   \n",
       "Supermarket Type2            NaN  2022.404489          NaN          NaN   \n",
       "Supermarket Type3            NaN  3565.122748          NaN          NaN   \n",
       "\n",
       "Category                               Canned  ...      Seafood  Snack Foods  \\\n",
       "Store_Location_Type       Tier 3       Tier 1  ...       Tier 3       Tier 1   \n",
       "Store_Type                                     ...                             \n",
       "Grocery Store         453.483778   440.514305  ...   236.858350   342.043653   \n",
       "Supermarket Type1    2104.286508  2239.013551  ...  1629.345760  2413.350195   \n",
       "Supermarket Type2    1874.670867          NaN  ...  3166.639914          NaN   \n",
       "Supermarket Type3    4584.759327          NaN  ...  2687.073686          NaN   \n",
       "\n",
       "Category                                       Soft Drinks              \\\n",
       "Store_Location_Type       Tier 2       Tier 3       Tier 1      Tier 2   \n",
       "Store_Type                                                               \n",
       "Grocery Store                NaN   365.392915   350.518092         NaN   \n",
       "Supermarket Type1    2381.754219  2473.968987  1953.726353  2160.13085   \n",
       "Supermarket Type2            NaN  2111.473733          NaN         NaN   \n",
       "Supermarket Type3            NaN  3745.168739          NaN         NaN   \n",
       "\n",
       "Category                         Starchy Foods                            \n",
       "Store_Location_Type       Tier 3        Tier 1       Tier 2       Tier 3  \n",
       "Store_Type                                                                \n",
       "Grocery Store         337.180143    291.953300          NaN   303.752756  \n",
       "Supermarket Type1    2351.727890   2539.964581  2645.022404  2302.791947  \n",
       "Supermarket Type2    1923.814626           NaN          NaN  1947.699988  \n",
       "Supermarket Type3    3284.938836           NaN          NaN  3512.190114  \n",
       "\n",
       "[4 rows x 48 columns]"
      ]
     },
     "execution_count": 12,
     "metadata": {},
     "output_type": "execute_result"
    }
   ],
   "source": [
    "#store vs category vs location type\n",
    "bundas_training_storetype_category_location = pd.pivot_table(bundas_training,index=['Store_Type'],columns=['Category','Store_Location_Type'],values='Item_Store_Sales')\n",
    "bundas_training_storetype_category_location.head(10)"
   ]
  },
  {
   "cell_type": "code",
   "execution_count": 13,
   "metadata": {},
   "outputs": [
    {
     "data": {
      "text/plain": [
       "Weight                        12.857645\n",
       "Visibility                     0.066132\n",
       "Max_Price                    140.992782\n",
       "Store_Establishment_Year    1997.831867\n",
       "Item_Store_Sales            2181.288914\n",
       "dtype: float64"
      ]
     },
     "execution_count": 13,
     "metadata": {},
     "output_type": "execute_result"
    }
   ],
   "source": [
    "bundas_training.mean()"
   ]
  },
  {
   "cell_type": "code",
   "execution_count": 14,
   "metadata": {},
   "outputs": [
    {
     "data": {
      "text/plain": [
       "Weight                        12.600000\n",
       "Visibility                     0.053931\n",
       "Max_Price                    143.012800\n",
       "Store_Establishment_Year    1999.000000\n",
       "Item_Store_Sales            1794.331000\n",
       "dtype: float64"
      ]
     },
     "execution_count": 14,
     "metadata": {},
     "output_type": "execute_result"
    }
   ],
   "source": [
    "bundas_training.median()"
   ]
  },
  {
   "cell_type": "code",
   "execution_count": 15,
   "metadata": {},
   "outputs": [
    {
     "data": {
      "text/plain": [
       "(8523, 12)"
      ]
     },
     "execution_count": 15,
     "metadata": {},
     "output_type": "execute_result"
    }
   ],
   "source": [
    "bundas_training.shape"
   ]
  },
  {
   "cell_type": "code",
   "execution_count": 16,
   "metadata": {},
   "outputs": [
    {
     "data": {
      "text/plain": [
       "array(['Dairy', 'Soft Drinks', 'Meat', ..., 'Health and Hygiene',\n",
       "       'Snack Foods', 'Soft Drinks'], dtype=object)"
      ]
     },
     "execution_count": 16,
     "metadata": {},
     "output_type": "execute_result"
    }
   ],
   "source": [
    "bundas_training['Category'].values"
   ]
  },
  {
   "cell_type": "code",
   "execution_count": 17,
   "metadata": {},
   "outputs": [
    {
     "data": {
      "text/plain": [
       "array(['Supermarket Type1', 'Supermarket Type2', 'Supermarket Type1', ...,\n",
       "       'Supermarket Type1', 'Supermarket Type2', 'Supermarket Type1'],\n",
       "      dtype=object)"
      ]
     },
     "execution_count": 17,
     "metadata": {},
     "output_type": "execute_result"
    }
   ],
   "source": [
    "bundas_training['Store_Type'].values"
   ]
  },
  {
   "cell_type": "code",
   "execution_count": 18,
   "metadata": {},
   "outputs": [],
   "source": [
    "#This is to get an easier understanding of the Category bar graph\n",
    "bundas_training['Category'].replace(['Dairy','Soft Drinks','Meat', 'Health and Hygiene', 'Snack Foods', 'Fruits and Vegetables', 'Frozen Foods', 'Seafood', 'Household', 'Hard Drinks', 'Canned', 'Baking Goods', 'Breakfast', 'Others', 'Starchy Foods', 'Breads'], ['D','SD','M', 'HH', 'SF', 'FV', 'FF', 'SeF', 'HoH', 'HD', 'C', 'BG', 'BF', 'O', 'StF','B'], inplace=True)"
   ]
  },
  {
   "cell_type": "code",
   "execution_count": 19,
   "metadata": {},
   "outputs": [],
   "source": [
    "bundas_training['Store_Type'].replace(['Supermarket Type1','Supermarket Type2','Supermarket Type3', 'Grocery Store'], ['SType1','SType2','SType3', 'GStore'], inplace=True)\n"
   ]
  },
  {
   "cell_type": "code",
   "execution_count": 20,
   "metadata": {},
   "outputs": [],
   "source": [
    "bundas_training['FatContent'].replace(['reg','low fat','LF'], ['Regular','Low Fat','Low Fat'], inplace=True)\n",
    "    "
   ]
  },
  {
   "cell_type": "code",
   "execution_count": 21,
   "metadata": {},
   "outputs": [
    {
     "data": {
      "text/html": [
       "<div>\n",
       "<style scoped>\n",
       "    .dataframe tbody tr th:only-of-type {\n",
       "        vertical-align: middle;\n",
       "    }\n",
       "\n",
       "    .dataframe tbody tr th {\n",
       "        vertical-align: top;\n",
       "    }\n",
       "\n",
       "    .dataframe thead th {\n",
       "        text-align: right;\n",
       "    }\n",
       "</style>\n",
       "<table border=\"1\" class=\"dataframe\">\n",
       "  <thead>\n",
       "    <tr style=\"text-align: right;\">\n",
       "      <th></th>\n",
       "      <th>Max_Price</th>\n",
       "      <th>Item_Store_Sales</th>\n",
       "    </tr>\n",
       "  </thead>\n",
       "  <tbody>\n",
       "    <tr>\n",
       "      <td>Max_Price</td>\n",
       "      <td>1.000000</td>\n",
       "      <td>0.567574</td>\n",
       "    </tr>\n",
       "    <tr>\n",
       "      <td>Item_Store_Sales</td>\n",
       "      <td>0.567574</td>\n",
       "      <td>1.000000</td>\n",
       "    </tr>\n",
       "  </tbody>\n",
       "</table>\n",
       "</div>"
      ],
      "text/plain": [
       "                  Max_Price  Item_Store_Sales\n",
       "Max_Price          1.000000          0.567574\n",
       "Item_Store_Sales   0.567574          1.000000"
      ]
     },
     "execution_count": 21,
     "metadata": {},
     "output_type": "execute_result"
    }
   ],
   "source": [
    "bundas_training[[\"Max_Price\", \"Item_Store_Sales\"]].corr()"
   ]
  },
  {
   "cell_type": "code",
   "execution_count": 22,
   "metadata": {},
   "outputs": [
    {
     "data": {
      "text/plain": [
       "<matplotlib.axes._subplots.AxesSubplot at 0x21841e37848>"
      ]
     },
     "execution_count": 22,
     "metadata": {},
     "output_type": "execute_result"
    },
    {
     "data": {
      "image/png": "[encoded data removed]",
      "text/plain": [
       "<Figure size 432x288 with 1 Axes>"
      ]
     },
     "metadata": {
      "needs_background": "light"
     },
     "output_type": "display_data"
    }
   ],
   "source": [
    "sns.distplot(bundas_training['Item_Store_Sales'],bins = 10)"
   ]
  },
  {
   "cell_type": "code",
   "execution_count": 23,
   "metadata": {},
   "outputs": [
    {
     "data": {
      "text/plain": [
       "<matplotlib.axes._subplots.AxesSubplot at 0x21841fb4048>"
      ]
     },
     "execution_count": 23,
     "metadata": {},
     "output_type": "execute_result"
    },
    {
     "data": {
      "image/png": "[encoded data removed]",
      "text/plain": [
       "<Figure size 432x288 with 1 Axes>"
      ]
     },
     "metadata": {
      "needs_background": "light"
     },
     "output_type": "display_data"
    }
   ],
   "source": [
    "#Countplot for the different types of stores i.e. Supermarket Type 1, Supermarket Type 2, Grocery Store and Spermarket Type 3\n",
    "sns.countplot('Store_Type', data = bundas_training)"
   ]
  },
  {
   "cell_type": "code",
   "execution_count": 24,
   "metadata": {},
   "outputs": [
    {
     "data": {
      "text/plain": [
       "<matplotlib.axes._subplots.AxesSubplot at 0x21842205d08>"
      ]
     },
     "execution_count": 24,
     "metadata": {},
     "output_type": "execute_result"
    },
    {
     "data": {
      "image/png": "[encoded data removed]",
      "text/plain": [
       "<Figure size 432x288 with 1 Axes>"
      ]
     },
     "metadata": {
      "needs_background": "light"
     },
     "output_type": "display_data"
    }
   ],
   "source": [
    "#Countplot fpr Fat Content i.e. Low Fat, Regular, \n",
    "sns.countplot('FatContent', data = bundas_training)"
   ]
  },
  {
   "cell_type": "code",
   "execution_count": 25,
   "metadata": {},
   "outputs": [
    {
     "data": {
      "text/plain": [
       "<matplotlib.axes._subplots.AxesSubplot at 0x21842259f48>"
      ]
     },
     "execution_count": 25,
     "metadata": {},
     "output_type": "execute_result"
    },
    {
     "data": {
      "image/png": "[encoded data removed]",
      "text/plain": [
       "<Figure size 432x288 with 1 Axes>"
      ]
     },
     "metadata": {
      "needs_background": "light"
     },
     "output_type": "display_data"
    }
   ],
   "source": [
    "#Countplot for Categeries\n",
    "sns.countplot('Category', data = bundas_training)"
   ]
  },
  {
   "cell_type": "code",
   "execution_count": 26,
   "metadata": {},
   "outputs": [
    {
     "data": {
      "text/plain": [
       "<matplotlib.axes._subplots.AxesSubplot at 0x218422e83c8>"
      ]
     },
     "execution_count": 26,
     "metadata": {},
     "output_type": "execute_result"
    },
    {
     "data": {
      "image/png": "[encoded data removed]",
      "text/plain": [
       "<Figure size 720x432 with 1 Axes>"
      ]
     },
     "metadata": {
      "needs_background": "light"
     },
     "output_type": "display_data"
    }
   ],
   "source": [
    "#Outliers\n",
    "bundas_training['Item_Store_Sales'].plot.box(grid = 'True', figsize = (10,6))"
   ]
  },
  {
   "cell_type": "code",
   "execution_count": 27,
   "metadata": {},
   "outputs": [
    {
     "data": {
      "text/plain": [
       "<matplotlib.collections.PathCollection at 0x218423af248>"
      ]
     },
     "execution_count": 27,
     "metadata": {},
     "output_type": "execute_result"
    },
    {
     "data": {
      "image/png": "[encoded data removed]",
      "text/plain": [
       "<Figure size 1080x360 with 3 Axes>"
      ]
     },
     "metadata": {
      "needs_background": "light"
     },
     "output_type": "display_data"
    }
   ],
   "source": [
    "plt.figure(figsize=(15,5)) #(width,height)\n",
    "\n",
    "plt.subplot(1,3,1) #(row,col,index_in_this_matrix)\n",
    "storetype_sales = pd.pivot_table(bundas_training,index=['Store_Type'],values='Item_Store_Sales',aggfunc=[np.max])\n",
    "plt.grid()\n",
    "#plt.grid(color='r', linestyle='-', linewidth=1)\n",
    "plt.title(\"Max Sales per Store Type\")\n",
    "plt.plot(storetype_sales, 'ro')\n",
    "\n",
    "plt.subplot(1,3,2) #(row,col,index_in_this_matrix)\n",
    "storetype_sales = pd.pivot_table(bundas_training,index=['Store_Type'],values='Item_Store_Sales',aggfunc=[np.mean])\n",
    "plt.grid()\n",
    "plt.title(\"Average Sales per Store Type\")\n",
    "plt.plot(storetype_sales, 'gs')\n",
    "\n",
    "plt.subplot(1,3,3) #(row,col,index_in_this_matrix)\n",
    "plt.grid()\n",
    "plt.title(\"Sale hits per Store Type\")\n",
    "plt.scatter(bundas_training.Store_Type,bundas_training.Item_Store_Sales)\n"
   ]
  },
  {
   "cell_type": "code",
   "execution_count": 28,
   "metadata": {},
   "outputs": [
    {
     "data": {
      "text/plain": [
       "(array([0.00173841, 0.00271523, 0.005     , 0.00672185, 0.00417219]),\n",
       " array([ 10,  50, 100, 150, 200, 250]),\n",
       " <a list of 5 Patch objects>)"
      ]
     },
     "execution_count": 28,
     "metadata": {},
     "output_type": "execute_result"
    },
    {
     "data": {
      "image/png": "[encoded data removed]",
      "text/plain": [
       "<Figure size 432x288 with 1 Axes>"
      ]
     },
     "metadata": {
      "needs_background": "light"
     },
     "output_type": "display_data"
    }
   ],
   "source": [
    "bins = [10, 50, 100, 150, 200, 250]\n",
    "plt.grid()\n",
    "plt.hist(bundas_training.Item_Store_Sales, bins, normed=1, histtype='bar', rwidth=0.8)"
   ]
  },
  {
   "cell_type": "code",
   "execution_count": 29,
   "metadata": {},
   "outputs": [
    {
     "name": "stdout",
     "output_type": "stream",
     "text": [
      "                  sum        mean\n",
      "            Max_Price   Max_Price\n",
      "Category                         \n",
      "B          35379.1198  140.952669\n",
      "BF         15596.6966  141.788151\n",
      "BG         81894.7364  126.380766\n",
      "C          90706.7270  139.763832\n",
      "D         101276.4596  148.499208\n",
      "FF        118558.8814  138.503366\n",
      "FV        178124.0810  144.581235\n",
      "HD         29334.6766  137.077928\n",
      "HH         68025.8388  130.818921\n",
      "HoH       135976.5254  149.424753\n",
      "M          59449.8638  139.882032\n",
      "O          22451.8916  132.851430\n",
      "SD         58514.1650  131.492506\n",
      "SF        175433.9204  146.194934\n",
      "SeF         9077.8700  141.841719\n",
      "StF        21880.0274  147.838023\n",
      "\n",
      "sum   Max_Price    178124.081000\n",
      "mean  Max_Price       149.424753\n",
      "dtype: float64\n"
     ]
    },
    {
     "data": {
      "image/png": "[encoded data removed]",
      "text/plain": [
       "<Figure size 720x360 with 1 Axes>"
      ]
     },
     "metadata": {
      "needs_background": "light"
     },
     "output_type": "display_data"
    }
   ],
   "source": [
    "pivot_table_category_prices = pd.pivot_table(bundas_training,index=[\"Category\"],values=[\"Max_Price\"],aggfunc=[np.sum,np.mean])\n",
    "print(pivot_table_category_prices)\n",
    "print()\n",
    "print(pivot_table_category_prices.max(axis=0))\n",
    "\n",
    "# plt.grid()\n",
    "# plt.plot(pivot_table_store_sales[\"sum\"], 'ro')\n",
    "\n",
    "pivot_table_category_prices[\"sum\"].plot(kind=\"bar\",legend=\"Sum\", figsize=(10,5)).grid()"
   ]
  },
  {
   "cell_type": "code",
   "execution_count": 30,
   "metadata": {},
   "outputs": [
    {
     "name": "stdout",
     "output_type": "stream",
     "text": [
      "                        sum             mean\n",
      "           Item_Store_Sales Item_Store_Sales\n",
      "Store_Type                                  \n",
      "GStore         3.680343e+05       339.828500\n",
      "SType1         1.291734e+07      2316.181148\n",
      "SType2         1.851823e+06      1995.498739\n",
      "SType3         3.453926e+06      3694.038558\n"
     ]
    },
    {
     "data": {
      "image/png": "[encoded data removed]",
      "text/plain": [
       "<Figure size 720x360 with 1 Axes>"
      ]
     },
     "metadata": {
      "needs_background": "light"
     },
     "output_type": "display_data"
    }
   ],
   "source": [
    "pivot_table_itemstore_sales = pd.pivot_table(bundas_training,index=[\"Store_Type\"],values=[\"Item_Store_Sales\"],aggfunc=[np.sum,np.mean])\n",
    "print(pivot_table_itemstore_sales.head(10))\n",
    "\n",
    "\n",
    "# plt.grid()\n",
    "# plt.plot(pivot_table_item_sales[\"sum\"], 'bs')\n",
    "\n",
    "pivot_table_itemstore_sales[\"sum\"].plot(kind=\"bar\",legend=\"Sum\", figsize=(10,5)).grid()"
   ]
  },
  {
   "cell_type": "code",
   "execution_count": 31,
   "metadata": {},
   "outputs": [
    {
     "data": {
      "text/html": [
       "<div>\n",
       "<style scoped>\n",
       "    .dataframe tbody tr th:only-of-type {\n",
       "        vertical-align: middle;\n",
       "    }\n",
       "\n",
       "    .dataframe tbody tr th {\n",
       "        vertical-align: top;\n",
       "    }\n",
       "\n",
       "    .dataframe thead th {\n",
       "        text-align: right;\n",
       "    }\n",
       "</style>\n",
       "<table border=\"1\" class=\"dataframe\">\n",
       "  <thead>\n",
       "    <tr style=\"text-align: right;\">\n",
       "      <th>Category</th>\n",
       "      <th>B</th>\n",
       "      <th>BF</th>\n",
       "      <th>BG</th>\n",
       "      <th>C</th>\n",
       "      <th>D</th>\n",
       "      <th>FF</th>\n",
       "      <th>FV</th>\n",
       "      <th>HD</th>\n",
       "      <th>HH</th>\n",
       "      <th>HoH</th>\n",
       "      <th>M</th>\n",
       "      <th>O</th>\n",
       "      <th>SD</th>\n",
       "      <th>SF</th>\n",
       "      <th>SeF</th>\n",
       "      <th>StF</th>\n",
       "    </tr>\n",
       "    <tr>\n",
       "      <th>Store_Establishment_Year</th>\n",
       "      <th></th>\n",
       "      <th></th>\n",
       "      <th></th>\n",
       "      <th></th>\n",
       "      <th></th>\n",
       "      <th></th>\n",
       "      <th></th>\n",
       "      <th></th>\n",
       "      <th></th>\n",
       "      <th></th>\n",
       "      <th></th>\n",
       "      <th></th>\n",
       "      <th></th>\n",
       "      <th></th>\n",
       "      <th></th>\n",
       "      <th></th>\n",
       "    </tr>\n",
       "  </thead>\n",
       "  <tbody>\n",
       "    <tr>\n",
       "      <td>1985</td>\n",
       "      <td>3.403909</td>\n",
       "      <td>2.198280</td>\n",
       "      <td>9.013149</td>\n",
       "      <td>7.932721</td>\n",
       "      <td>10.224224</td>\n",
       "      <td>10.272943</td>\n",
       "      <td>17.169084</td>\n",
       "      <td>2.004945</td>\n",
       "      <td>5.492325</td>\n",
       "      <td>10.936338</td>\n",
       "      <td>6.486592</td>\n",
       "      <td>2.420711</td>\n",
       "      <td>5.545339</td>\n",
       "      <td>16.641864</td>\n",
       "      <td>1.243031</td>\n",
       "      <td>1.076350</td>\n",
       "    </tr>\n",
       "    <tr>\n",
       "      <td>1987</td>\n",
       "      <td>1.639645</td>\n",
       "      <td>0.976537</td>\n",
       "      <td>4.342783</td>\n",
       "      <td>3.687669</td>\n",
       "      <td>5.512529</td>\n",
       "      <td>6.038761</td>\n",
       "      <td>8.704888</td>\n",
       "      <td>1.432235</td>\n",
       "      <td>3.112875</td>\n",
       "      <td>5.535386</td>\n",
       "      <td>2.289070</td>\n",
       "      <td>0.794553</td>\n",
       "      <td>2.624040</td>\n",
       "      <td>7.458647</td>\n",
       "      <td>0.332483</td>\n",
       "      <td>1.397759</td>\n",
       "    </tr>\n",
       "    <tr>\n",
       "      <td>1997</td>\n",
       "      <td>1.483384</td>\n",
       "      <td>0.689468</td>\n",
       "      <td>4.510584</td>\n",
       "      <td>4.943531</td>\n",
       "      <td>5.399722</td>\n",
       "      <td>6.467346</td>\n",
       "      <td>7.597766</td>\n",
       "      <td>1.076940</td>\n",
       "      <td>2.756676</td>\n",
       "      <td>5.928326</td>\n",
       "      <td>2.398602</td>\n",
       "      <td>1.214557</td>\n",
       "      <td>2.767339</td>\n",
       "      <td>7.452688</td>\n",
       "      <td>0.525335</td>\n",
       "      <td>1.019611</td>\n",
       "    </tr>\n",
       "    <tr>\n",
       "      <td>1998</td>\n",
       "      <td>1.681009</td>\n",
       "      <td>1.034398</td>\n",
       "      <td>5.410877</td>\n",
       "      <td>3.588867</td>\n",
       "      <td>4.974601</td>\n",
       "      <td>5.166924</td>\n",
       "      <td>8.052017</td>\n",
       "      <td>1.661233</td>\n",
       "      <td>3.295960</td>\n",
       "      <td>6.279960</td>\n",
       "      <td>3.011917</td>\n",
       "      <td>1.003999</td>\n",
       "      <td>2.667579</td>\n",
       "      <td>6.748084</td>\n",
       "      <td>0.359154</td>\n",
       "      <td>1.372253</td>\n",
       "    </tr>\n",
       "    <tr>\n",
       "      <td>1999</td>\n",
       "      <td>1.413759</td>\n",
       "      <td>1.028074</td>\n",
       "      <td>3.943892</td>\n",
       "      <td>4.192135</td>\n",
       "      <td>4.869296</td>\n",
       "      <td>5.728216</td>\n",
       "      <td>8.256181</td>\n",
       "      <td>1.825721</td>\n",
       "      <td>2.524939</td>\n",
       "      <td>5.483755</td>\n",
       "      <td>2.978852</td>\n",
       "      <td>0.925926</td>\n",
       "      <td>2.818438</td>\n",
       "      <td>8.809802</td>\n",
       "      <td>0.631597</td>\n",
       "      <td>1.118573</td>\n",
       "    </tr>\n",
       "    <tr>\n",
       "      <td>2002</td>\n",
       "      <td>1.869638</td>\n",
       "      <td>0.820868</td>\n",
       "      <td>4.390945</td>\n",
       "      <td>4.992490</td>\n",
       "      <td>3.949635</td>\n",
       "      <td>4.944494</td>\n",
       "      <td>9.425140</td>\n",
       "      <td>1.610551</td>\n",
       "      <td>2.735378</td>\n",
       "      <td>5.517265</td>\n",
       "      <td>2.003441</td>\n",
       "      <td>1.148724</td>\n",
       "      <td>2.780590</td>\n",
       "      <td>8.602128</td>\n",
       "      <td>0.378687</td>\n",
       "      <td>1.010805</td>\n",
       "    </tr>\n",
       "    <tr>\n",
       "      <td>2004</td>\n",
       "      <td>1.941523</td>\n",
       "      <td>0.801701</td>\n",
       "      <td>4.334289</td>\n",
       "      <td>4.958099</td>\n",
       "      <td>4.785711</td>\n",
       "      <td>5.828112</td>\n",
       "      <td>8.369911</td>\n",
       "      <td>1.244083</td>\n",
       "      <td>2.765775</td>\n",
       "      <td>5.644255</td>\n",
       "      <td>2.074401</td>\n",
       "      <td>0.664255</td>\n",
       "      <td>3.167753</td>\n",
       "      <td>8.817249</td>\n",
       "      <td>0.431865</td>\n",
       "      <td>1.145890</td>\n",
       "    </tr>\n",
       "    <tr>\n",
       "      <td>2007</td>\n",
       "      <td>1.495458</td>\n",
       "      <td>1.048556</td>\n",
       "      <td>4.689379</td>\n",
       "      <td>4.647467</td>\n",
       "      <td>4.897583</td>\n",
       "      <td>6.325585</td>\n",
       "      <td>8.497193</td>\n",
       "      <td>1.656110</td>\n",
       "      <td>3.249722</td>\n",
       "      <td>5.056887</td>\n",
       "      <td>2.131253</td>\n",
       "      <td>1.006638</td>\n",
       "      <td>3.301859</td>\n",
       "      <td>7.599328</td>\n",
       "      <td>0.307505</td>\n",
       "      <td>0.924123</td>\n",
       "    </tr>\n",
       "    <tr>\n",
       "      <td>2009</td>\n",
       "      <td>1.701704</td>\n",
       "      <td>0.831649</td>\n",
       "      <td>4.185808</td>\n",
       "      <td>5.272946</td>\n",
       "      <td>4.782048</td>\n",
       "      <td>5.419944</td>\n",
       "      <td>8.335767</td>\n",
       "      <td>1.385888</td>\n",
       "      <td>2.778660</td>\n",
       "      <td>5.421132</td>\n",
       "      <td>3.096491</td>\n",
       "      <td>1.001373</td>\n",
       "      <td>2.794712</td>\n",
       "      <td>8.090478</td>\n",
       "      <td>0.588812</td>\n",
       "      <td>0.934043</td>\n",
       "    </tr>\n",
       "  </tbody>\n",
       "</table>\n",
       "</div>"
      ],
      "text/plain": [
       "Category                         B        BF        BG         C          D  \\\n",
       "Store_Establishment_Year                                                      \n",
       "1985                      3.403909  2.198280  9.013149  7.932721  10.224224   \n",
       "1987                      1.639645  0.976537  4.342783  3.687669   5.512529   \n",
       "1997                      1.483384  0.689468  4.510584  4.943531   5.399722   \n",
       "1998                      1.681009  1.034398  5.410877  3.588867   4.974601   \n",
       "1999                      1.413759  1.028074  3.943892  4.192135   4.869296   \n",
       "2002                      1.869638  0.820868  4.390945  4.992490   3.949635   \n",
       "2004                      1.941523  0.801701  4.334289  4.958099   4.785711   \n",
       "2007                      1.495458  1.048556  4.689379  4.647467   4.897583   \n",
       "2009                      1.701704  0.831649  4.185808  5.272946   4.782048   \n",
       "\n",
       "Category                         FF         FV        HD        HH        HoH  \\\n",
       "Store_Establishment_Year                                                        \n",
       "1985                      10.272943  17.169084  2.004945  5.492325  10.936338   \n",
       "1987                       6.038761   8.704888  1.432235  3.112875   5.535386   \n",
       "1997                       6.467346   7.597766  1.076940  2.756676   5.928326   \n",
       "1998                       5.166924   8.052017  1.661233  3.295960   6.279960   \n",
       "1999                       5.728216   8.256181  1.825721  2.524939   5.483755   \n",
       "2002                       4.944494   9.425140  1.610551  2.735378   5.517265   \n",
       "2004                       5.828112   8.369911  1.244083  2.765775   5.644255   \n",
       "2007                       6.325585   8.497193  1.656110  3.249722   5.056887   \n",
       "2009                       5.419944   8.335767  1.385888  2.778660   5.421132   \n",
       "\n",
       "Category                         M         O        SD         SF       SeF  \\\n",
       "Store_Establishment_Year                                                      \n",
       "1985                      6.486592  2.420711  5.545339  16.641864  1.243031   \n",
       "1987                      2.289070  0.794553  2.624040   7.458647  0.332483   \n",
       "1997                      2.398602  1.214557  2.767339   7.452688  0.525335   \n",
       "1998                      3.011917  1.003999  2.667579   6.748084  0.359154   \n",
       "1999                      2.978852  0.925926  2.818438   8.809802  0.631597   \n",
       "2002                      2.003441  1.148724  2.780590   8.602128  0.378687   \n",
       "2004                      2.074401  0.664255  3.167753   8.817249  0.431865   \n",
       "2007                      2.131253  1.006638  3.301859   7.599328  0.307505   \n",
       "2009                      3.096491  1.001373  2.794712   8.090478  0.588812   \n",
       "\n",
       "Category                       StF  \n",
       "Store_Establishment_Year            \n",
       "1985                      1.076350  \n",
       "1987                      1.397759  \n",
       "1997                      1.019611  \n",
       "1998                      1.372253  \n",
       "1999                      1.118573  \n",
       "2002                      1.010805  \n",
       "2004                      1.145890  \n",
       "2007                      0.924123  \n",
       "2009                      0.934043  "
      ]
     },
     "execution_count": 31,
     "metadata": {},
     "output_type": "execute_result"
    }
   ],
   "source": [
    "#Prices per category performance over time\n",
    "time_plot_store_performance = pd.pivot_table(bundas_training,index=['Store_Establishment_Year'],columns=['Category',],values='Visibility',aggfunc=np.sum)\n",
    "time_plot_store_performance.head(15)"
   ]
  },
  {
   "cell_type": "code",
   "execution_count": 32,
   "metadata": {},
   "outputs": [
    {
     "data": {
      "text/html": [
       "<div>\n",
       "<style scoped>\n",
       "    .dataframe tbody tr th:only-of-type {\n",
       "        vertical-align: middle;\n",
       "    }\n",
       "\n",
       "    .dataframe tbody tr th {\n",
       "        vertical-align: top;\n",
       "    }\n",
       "\n",
       "    .dataframe thead th {\n",
       "        text-align: right;\n",
       "    }\n",
       "</style>\n",
       "<table border=\"1\" class=\"dataframe\">\n",
       "  <thead>\n",
       "    <tr style=\"text-align: right;\">\n",
       "      <th>Category</th>\n",
       "      <th>B</th>\n",
       "      <th>BF</th>\n",
       "      <th>BG</th>\n",
       "      <th>C</th>\n",
       "      <th>D</th>\n",
       "      <th>FF</th>\n",
       "      <th>FV</th>\n",
       "      <th>HD</th>\n",
       "      <th>HH</th>\n",
       "      <th>HoH</th>\n",
       "      <th>M</th>\n",
       "      <th>O</th>\n",
       "      <th>SD</th>\n",
       "      <th>SF</th>\n",
       "      <th>SeF</th>\n",
       "      <th>StF</th>\n",
       "    </tr>\n",
       "    <tr>\n",
       "      <th>Store_Establishment_Year</th>\n",
       "      <th></th>\n",
       "      <th></th>\n",
       "      <th></th>\n",
       "      <th></th>\n",
       "      <th></th>\n",
       "      <th></th>\n",
       "      <th></th>\n",
       "      <th></th>\n",
       "      <th></th>\n",
       "      <th></th>\n",
       "      <th></th>\n",
       "      <th></th>\n",
       "      <th></th>\n",
       "      <th></th>\n",
       "      <th></th>\n",
       "      <th></th>\n",
       "    </tr>\n",
       "  </thead>\n",
       "  <tbody>\n",
       "    <tr>\n",
       "      <td>1985</td>\n",
       "      <td>115466.3650</td>\n",
       "      <td>54194.7884</td>\n",
       "      <td>238305.7992</td>\n",
       "      <td>288889.9542</td>\n",
       "      <td>278461.5288</td>\n",
       "      <td>331525.1230</td>\n",
       "      <td>600082.2110</td>\n",
       "      <td>80726.2526</td>\n",
       "      <td>210029.2732</td>\n",
       "      <td>396456.6022</td>\n",
       "      <td>228284.1776</td>\n",
       "      <td>45036.0436</td>\n",
       "      <td>156935.7180</td>\n",
       "      <td>538741.3912</td>\n",
       "      <td>20146.4422</td>\n",
       "      <td>50338.4748</td>\n",
       "    </tr>\n",
       "    <tr>\n",
       "      <td>1987</td>\n",
       "      <td>52018.2882</td>\n",
       "      <td>27355.7246</td>\n",
       "      <td>149715.7828</td>\n",
       "      <td>143732.2382</td>\n",
       "      <td>196254.5370</td>\n",
       "      <td>203696.8494</td>\n",
       "      <td>341526.7706</td>\n",
       "      <td>54362.5700</td>\n",
       "      <td>119135.5888</td>\n",
       "      <td>248046.4532</td>\n",
       "      <td>95200.0788</td>\n",
       "      <td>35238.1308</td>\n",
       "      <td>115234.6666</td>\n",
       "      <td>309246.1234</td>\n",
       "      <td>8146.7288</td>\n",
       "      <td>43753.0470</td>\n",
       "    </tr>\n",
       "    <tr>\n",
       "      <td>1997</td>\n",
       "      <td>71870.4468</td>\n",
       "      <td>16599.7256</td>\n",
       "      <td>173376.3174</td>\n",
       "      <td>173084.6970</td>\n",
       "      <td>175086.0918</td>\n",
       "      <td>243236.7140</td>\n",
       "      <td>304751.3076</td>\n",
       "      <td>44615.9238</td>\n",
       "      <td>133189.2952</td>\n",
       "      <td>219520.2522</td>\n",
       "      <td>95072.2452</td>\n",
       "      <td>41540.5936</td>\n",
       "      <td>86064.6370</td>\n",
       "      <td>274813.6106</td>\n",
       "      <td>26314.4134</td>\n",
       "      <td>39258.8970</td>\n",
       "    </tr>\n",
       "    <tr>\n",
       "      <td>1998</td>\n",
       "      <td>7657.3658</td>\n",
       "      <td>4081.3540</td>\n",
       "      <td>10693.4138</td>\n",
       "      <td>9019.5926</td>\n",
       "      <td>15307.4078</td>\n",
       "      <td>17942.6442</td>\n",
       "      <td>24548.0460</td>\n",
       "      <td>4067.3722</td>\n",
       "      <td>13570.3356</td>\n",
       "      <td>25550.0750</td>\n",
       "      <td>13580.9884</td>\n",
       "      <td>3256.4278</td>\n",
       "      <td>9441.0440</td>\n",
       "      <td>25942.8970</td>\n",
       "      <td>947.4334</td>\n",
       "      <td>2733.7748</td>\n",
       "    </tr>\n",
       "    <tr>\n",
       "      <td>1999</td>\n",
       "      <td>60490.5932</td>\n",
       "      <td>30214.6698</td>\n",
       "      <td>139263.3886</td>\n",
       "      <td>138138.1866</td>\n",
       "      <td>179680.7776</td>\n",
       "      <td>215879.6578</td>\n",
       "      <td>335113.7850</td>\n",
       "      <td>62927.4212</td>\n",
       "      <td>112844.4446</td>\n",
       "      <td>254817.6392</td>\n",
       "      <td>105149.7940</td>\n",
       "      <td>47772.4816</td>\n",
       "      <td>97585.6402</td>\n",
       "      <td>350244.0900</td>\n",
       "      <td>11827.2712</td>\n",
       "      <td>42019.9696</td>\n",
       "    </tr>\n",
       "  </tbody>\n",
       "</table>\n",
       "</div>"
      ],
      "text/plain": [
       "Category                            B          BF           BG            C  \\\n",
       "Store_Establishment_Year                                                      \n",
       "1985                      115466.3650  54194.7884  238305.7992  288889.9542   \n",
       "1987                       52018.2882  27355.7246  149715.7828  143732.2382   \n",
       "1997                       71870.4468  16599.7256  173376.3174  173084.6970   \n",
       "1998                        7657.3658   4081.3540   10693.4138    9019.5926   \n",
       "1999                       60490.5932  30214.6698  139263.3886  138138.1866   \n",
       "\n",
       "Category                            D           FF           FV          HD  \\\n",
       "Store_Establishment_Year                                                      \n",
       "1985                      278461.5288  331525.1230  600082.2110  80726.2526   \n",
       "1987                      196254.5370  203696.8494  341526.7706  54362.5700   \n",
       "1997                      175086.0918  243236.7140  304751.3076  44615.9238   \n",
       "1998                       15307.4078   17942.6442   24548.0460   4067.3722   \n",
       "1999                      179680.7776  215879.6578  335113.7850  62927.4212   \n",
       "\n",
       "Category                           HH          HoH            M           O  \\\n",
       "Store_Establishment_Year                                                      \n",
       "1985                      210029.2732  396456.6022  228284.1776  45036.0436   \n",
       "1987                      119135.5888  248046.4532   95200.0788  35238.1308   \n",
       "1997                      133189.2952  219520.2522   95072.2452  41540.5936   \n",
       "1998                       13570.3356   25550.0750   13580.9884   3256.4278   \n",
       "1999                      112844.4446  254817.6392  105149.7940  47772.4816   \n",
       "\n",
       "Category                           SD           SF         SeF         StF  \n",
       "Store_Establishment_Year                                                    \n",
       "1985                      156935.7180  538741.3912  20146.4422  50338.4748  \n",
       "1987                      115234.6666  309246.1234   8146.7288  43753.0470  \n",
       "1997                       86064.6370  274813.6106  26314.4134  39258.8970  \n",
       "1998                        9441.0440   25942.8970    947.4334   2733.7748  \n",
       "1999                       97585.6402  350244.0900  11827.2712  42019.9696  "
      ]
     },
     "execution_count": 32,
     "metadata": {},
     "output_type": "execute_result"
    }
   ],
   "source": [
    "#sales per category over time\n",
    "time_plot_items_performance = pd.pivot_table(bundas_training,index=['Store_Establishment_Year'],columns=['Category',],values='Item_Store_Sales',aggfunc=np.sum)\n",
    "time_plot_items_performance.head()"
   ]
  },
  {
   "cell_type": "code",
   "execution_count": 33,
   "metadata": {},
   "outputs": [
    {
     "data": {
      "text/html": [
       "<div>\n",
       "<style scoped>\n",
       "    .dataframe tbody tr th:only-of-type {\n",
       "        vertical-align: middle;\n",
       "    }\n",
       "\n",
       "    .dataframe tbody tr th {\n",
       "        vertical-align: top;\n",
       "    }\n",
       "\n",
       "    .dataframe thead th {\n",
       "        text-align: right;\n",
       "    }\n",
       "</style>\n",
       "<table border=\"1\" class=\"dataframe\">\n",
       "  <thead>\n",
       "    <tr style=\"text-align: right;\">\n",
       "      <th>Store_Type</th>\n",
       "      <th>GStore</th>\n",
       "      <th>SType1</th>\n",
       "      <th>SType2</th>\n",
       "      <th>SType3</th>\n",
       "    </tr>\n",
       "    <tr>\n",
       "      <th>Store_Establishment_Year</th>\n",
       "      <th></th>\n",
       "      <th></th>\n",
       "      <th></th>\n",
       "      <th></th>\n",
       "    </tr>\n",
       "  </thead>\n",
       "  <tbody>\n",
       "    <tr>\n",
       "      <td>1985</td>\n",
       "      <td>179694.0936</td>\n",
       "      <td>NaN</td>\n",
       "      <td>NaN</td>\n",
       "      <td>3.453926e+06</td>\n",
       "    </tr>\n",
       "    <tr>\n",
       "      <td>1987</td>\n",
       "      <td>NaN</td>\n",
       "      <td>2.142664e+06</td>\n",
       "      <td>NaN</td>\n",
       "      <td>NaN</td>\n",
       "    </tr>\n",
       "    <tr>\n",
       "      <td>1997</td>\n",
       "      <td>NaN</td>\n",
       "      <td>2.118395e+06</td>\n",
       "      <td>NaN</td>\n",
       "      <td>NaN</td>\n",
       "    </tr>\n",
       "    <tr>\n",
       "      <td>1998</td>\n",
       "      <td>188340.1724</td>\n",
       "      <td>NaN</td>\n",
       "      <td>NaN</td>\n",
       "      <td>NaN</td>\n",
       "    </tr>\n",
       "    <tr>\n",
       "      <td>1999</td>\n",
       "      <td>NaN</td>\n",
       "      <td>2.183970e+06</td>\n",
       "      <td>NaN</td>\n",
       "      <td>NaN</td>\n",
       "    </tr>\n",
       "  </tbody>\n",
       "</table>\n",
       "</div>"
      ],
      "text/plain": [
       "Store_Type                     GStore        SType1  SType2        SType3\n",
       "Store_Establishment_Year                                                 \n",
       "1985                      179694.0936           NaN     NaN  3.453926e+06\n",
       "1987                              NaN  2.142664e+06     NaN           NaN\n",
       "1997                              NaN  2.118395e+06     NaN           NaN\n",
       "1998                      188340.1724           NaN     NaN           NaN\n",
       "1999                              NaN  2.183970e+06     NaN           NaN"
      ]
     },
     "execution_count": 33,
     "metadata": {},
     "output_type": "execute_result"
    }
   ],
   "source": [
    "#Sales per store over time\n",
    "time_plot_items_performance = pd.pivot_table(bundas_training,index=['Store_Establishment_Year'],columns=['Store_Type',],values='Item_Store_Sales',aggfunc=np.sum)\n",
    "time_plot_items_performance.head()"
   ]
  },
  {
   "cell_type": "code",
   "execution_count": null,
   "metadata": {},
   "outputs": [],
   "source": []
  },
  {
   "cell_type": "code",
   "execution_count": null,
   "metadata": {},
   "outputs": [],
   "source": []
  },
  {
   "cell_type": "code",
   "execution_count": null,
   "metadata": {},
   "outputs": [],
   "source": []
  },
  {
   "cell_type": "code",
   "execution_count": null,
   "metadata": {},
   "outputs": [],
   "source": []
  },
  {
   "cell_type": "code",
   "execution_count": null,
   "metadata": {},
   "outputs": [],
   "source": []
  }
 ],
 "metadata": {
  "kernelspec": {
   "display_name": "Python 3",
   "language": "python",
   "name": "python3"
  },
  "language_info": {
   "codemirror_mode": {
    "name": "ipython",
    "version": 3
   },
   "file_extension": ".py",
   "mimetype": "text/x-python",
   "name": "python",
   "nbconvert_exporter": "python",
   "pygments_lexer": "ipython3",
   "version": "3.7.4"
  }
 },
 "nbformat": 4,
 "nbformat_minor": 2
}
